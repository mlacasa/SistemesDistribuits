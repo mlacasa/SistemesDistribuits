{
  "nbformat": 4,
  "nbformat_minor": 5,
  "metadata": {
    "kernelspec": {
      "display_name": "Python 3 (ipykernel)",
      "language": "python",
      "name": "python3"
    },
    "language_info": {
      "codemirror_mode": {
        "name": "ipython",
        "version": 3
      },
      "file_extension": ".py",
      "mimetype": "text/x-python",
      "name": "python",
      "nbconvert_exporter": "python",
      "pygments_lexer": "ipython3",
      "version": "3.8.5"
    },
    "colab": {
      "name": "Jacobi.ipynb",
      "provenance": [],
      "include_colab_link": true
    }
  },
  "cells": [
    {
      "cell_type": "markdown",
      "metadata": {
        "id": "view-in-github",
        "colab_type": "text"
      },
      "source": [
        "<a href=\"https://colab.research.google.com/github/mlacasa/SistemesDistribuits/blob/main/Jacobi.ipynb\" target=\"_parent\"><img src=\"https://colab.research.google.com/assets/colab-badge.svg\" alt=\"Open In Colab\"/></a>"
      ]
    },
    {
      "cell_type": "code",
      "metadata": {
        "id": "62d7486b-e52d-4b2a-bf6e-62a346ec812f"
      },
      "source": [
        "import numpy as np\n",
        "import math\n",
        "import time\n",
        "import sys\n",
        "import random\n"
      ],
      "id": "62d7486b-e52d-4b2a-bf6e-62a346ec812f",
      "execution_count": 1,
      "outputs": []
    },
    {
      "cell_type": "code",
      "metadata": {
        "id": "8e93123a-b5b6-4aeb-89ee-2f905247ba33"
      },
      "source": [
        "def matrixAB (n):\n",
        "    # Matriu aleatòria B\n",
        "    B = np.random.randint(20, size = (n))\n",
        "    # Matriu aleatòria, Diagonal dominant?\n",
        "    A = np.random.randint(-10,10, size = (n,n))\n",
        "    # diag dif 0\n",
        "    d = np.diag(np.abs(A)) # valors diagonal A\n",
        "    # Matriu R-> A amb diag=0\n",
        "    R = A\n",
        "    for i in range(n):\n",
        "        R[i,i] = 0\n",
        "    # El valor diagonal A > sum row R?\n",
        "    \n",
        "    sumrow = np.abs(R).sum(axis=1) # valors suma A, excepte diagonal.\n",
        "    for i in range(n):\n",
        "        if d[i] < sumrow[i]: # No és diagonal dominant\n",
        "            A[i,i] = np.absolute(A[i,i]) + np.absolute((sumrow[i] - d[i])) + np.random.randint(10) # asegurem qeu sigui dominant.\n",
        "\n",
        "    return A, B    "
      ],
      "id": "8e93123a-b5b6-4aeb-89ee-2f905247ba33",
      "execution_count": 2,
      "outputs": []
    },
    {
      "cell_type": "code",
      "metadata": {
        "id": "4672ab16-2bf6-4cc7-956d-bfdac8503ff4"
      },
      "source": [
        "A, B = matrixAB(100)"
      ],
      "id": "4672ab16-2bf6-4cc7-956d-bfdac8503ff4",
      "execution_count": 3,
      "outputs": []
    },
    {
      "cell_type": "code",
      "metadata": {
        "id": "4e43a606-3623-479e-ac5e-aaa142bfddac"
      },
      "source": [
        "def jacobi(A,B):\n",
        "    \n",
        "    n = len(B)\n",
        "\n",
        "    start = time.time()\n",
        "    X_k = np.zeros(n)\n",
        "    X_k1 = np.zeros(n)\n",
        "    converge = False\n",
        "    iter = 0\n",
        "\n",
        "    while converge == False:\n",
        "        X_k = np.copy(X_k1)\n",
        "        for i in range(0,n):\n",
        "            suma = 0\n",
        "            for j in range(0,n):\n",
        "                if i!=j:\n",
        "                    suma += A[i,j]*X_k[j]\n",
        "            X_k1[i] = (B[i] - suma)/A[i,i]\n",
        "        iter+=1\n",
        "        #print(iter,X_k1 - X_k)\n",
        "        tmp = X_k1 - X_k\n",
        "        if math.fabs(max(tmp)) < 0.0005:\n",
        "            converge = True\n",
        "\n",
        "\n",
        "    result = list(map(lambda x: round(x,2), X_k1))\n",
        "    return result"
      ],
      "id": "4e43a606-3623-479e-ac5e-aaa142bfddac",
      "execution_count": 4,
      "outputs": []
    },
    {
      "cell_type": "code",
      "metadata": {
        "colab": {
          "base_uri": "https://localhost:8080/"
        },
        "id": "183101c2-605a-4b88-bd49-7cbfae24b002",
        "outputId": "f67f45af-aad4-4c9b-8fb6-68db0e5b48c1"
      },
      "source": [
        "# Mitjana error vs solve\n",
        "(jacobi(A,B)-np.linalg.solve(A,B)).mean()"
      ],
      "id": "183101c2-605a-4b88-bd49-7cbfae24b002",
      "execution_count": 5,
      "outputs": [
        {
          "output_type": "execute_result",
          "data": {
            "text/plain": [
              "-0.0002614632340037474"
            ]
          },
          "metadata": {},
          "execution_count": 5
        }
      ]
    },
    {
      "cell_type": "code",
      "metadata": {
        "id": "426d0d7a-32f1-4818-84aa-c33bc69877aa"
      },
      "source": [
        ""
      ],
      "id": "426d0d7a-32f1-4818-84aa-c33bc69877aa",
      "execution_count": null,
      "outputs": []
    }
  ]
}